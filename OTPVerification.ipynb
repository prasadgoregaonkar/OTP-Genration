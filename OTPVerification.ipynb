{
  "nbformat": 4,
  "nbformat_minor": 0,
  "metadata": {
    "colab": {
      "provenance": []
    },
    "kernelspec": {
      "name": "python3",
      "display_name": "Python 3"
    },
    "language_info": {
      "name": "python"
    }
  },
  "cells": [
    {
      "cell_type": "markdown",
      "source": [
        "A Program to generate OTP and send to register E-Mail Id."
      ],
      "metadata": {
        "id": "6Q6d7-6ogS9H"
      }
    },
    {
      "cell_type": "markdown",
      "source": [
        "Requriment\n",
        "\n",
        "\n",
        "1.   math and random library to generate OTP.\n",
        "2.   OS library functionalities while verifying our OTP.\n",
        "3.   smtplib library for sending mails.\n",
        "\n",
        "\n"
      ],
      "metadata": {
        "id": "NqKJL4ZIr2W6"
      }
    },
    {
      "cell_type": "code",
      "source": [
        "import math\n",
        "import os\n",
        "import random\n",
        "import smtplib"
      ],
      "metadata": {
        "id": "pjLttZwVgeIC"
      },
      "execution_count": 1,
      "outputs": []
    },
    {
      "cell_type": "markdown",
      "source": [
        "The following function generates our OTP.\n",
        "\n",
        "It uses the random library, which ensures that the same OTP isn't generated again."
      ],
      "metadata": {
        "id": "HVOlp7t4uZKC"
      }
    },
    {
      "cell_type": "code",
      "source": [
        "def generateOTP():\n",
        "  digits=\"0123456789\"\n",
        "  OTP=\"\"\n",
        "  for i in range(6):\n",
        "      OTP += digits[math.floor(random.random()*10)]\n",
        "  otp = OTP + \" is your OTP\"\n",
        "  return otp;"
      ],
      "metadata": {
        "id": "5yd3pVSIsTiV"
      },
      "execution_count": 2,
      "outputs": []
    },
    {
      "cell_type": "markdown",
      "source": [
        "The following function sends OTP on the email id specified by the user.\n",
        "\n",
        "\n",
        "\n",
        "1.   For completing this task we use the smtplib library.\n",
        "2.   For this function to work you need to have your Google app password created to be able to send emails using your Gmail account.\n",
        "3.   Follow the steps mentioned here to create your Google app password. You will get a key.\n",
        "4.   Paste the key in the code below in the s.login(\"EMAIL\", \"KEY\") line and also enter your email id there."
      ],
      "metadata": {
        "id": "Dys0ElYdu9a0"
      }
    },
    {
      "cell_type": "code",
      "source": [
        "def sendOTP(otp):\n",
        "  msg = otp\n",
        "  s = smtplib.SMTP('smtp.gmail.com', 587)\n",
        "  s.starttls()\n",
        "  mail = input(\"Enter your mail: \")\n",
        "  key = input(\"Enter Google App Password Key: \")\n",
        "  s.login(mail, key)\n",
        "  emailid = input(\"Enter mail to which OTP is to be sent: \")\n",
        "  s.sendmail('&&&&&&&&&&&',emailid,msg)"
      ],
      "metadata": {
        "id": "AgTPTlcsu-gr"
      },
      "execution_count": 3,
      "outputs": []
    },
    {
      "cell_type": "markdown",
      "source": [
        "The following function verifies OTP.\n",
        "\n",
        "It checks whether we have entered the correct OTP then it prints verified otherwise it shows error."
      ],
      "metadata": {
        "id": "DjY-SmDbvtAV"
      }
    },
    {
      "cell_type": "code",
      "source": [
        "def verifyOTP(OTP):\n",
        "  a = input(\"Enter Your OTP >>: \")\n",
        "  if a == OTP:\n",
        "      print(\"Verified\")\n",
        "  else:\n",
        "      print(\"Please Check your OTP again\")"
      ],
      "metadata": {
        "id": "7ceG6j5JvyvI"
      },
      "execution_count": 4,
      "outputs": []
    },
    {
      "cell_type": "markdown",
      "source": [
        "Given below is our main function which calls all other functions."
      ],
      "metadata": {
        "id": "rOw00i--v2fq"
      }
    },
    {
      "cell_type": "code",
      "source": [
        "if __name__ == \"__main__\":\n",
        "  otp = generateOTP()\n",
        "  sendOTP(otp)\n",
        "  verifyOTP(otp)"
      ],
      "metadata": {
        "id": "ZmnL_0ojv3Op"
      },
      "execution_count": null,
      "outputs": []
    }
  ]
}